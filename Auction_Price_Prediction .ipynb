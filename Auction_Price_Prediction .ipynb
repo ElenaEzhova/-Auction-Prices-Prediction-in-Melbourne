{
 "cells": [
  {
   "cell_type": "code",
   "execution_count": 1,
   "metadata": {},
   "outputs": [],
   "source": [
    "import pandas as pd\n",
    "import seaborn as sns\n",
    "import numpy as np\n",
    "from sklearn.model_selection import train_test_split\n",
    "import matplotlib.pyplot as plt \n",
    "from sklearn import metrics\n",
    "from sklearn.metrics import explained_variance_score,mean_absolute_error,r2_score\n",
    "from sklearn.linear_model import LinearRegression, Ridge,Lasso\n",
    "from sklearn.neighbors import KNeighborsRegressor\n",
    "from sklearn.ensemble import GradientBoostingRegressor\n",
    "from sklearn.ensemble import ExtraTreesRegressor, RandomForestRegressor\n",
    "from sklearn.tree import DecisionTreeRegressor\n",
    "%matplotlib inline"
   ]
  },
  {
   "cell_type": "markdown",
   "metadata": {},
   "source": [
    " Load and split the modelling dataset into Train and Test sets."
   ]
  },
  {
   "cell_type": "code",
   "execution_count": 2,
   "metadata": {},
   "outputs": [
    {
     "data": {
      "text/html": [
       "<div>\n",
       "<style scoped>\n",
       "    .dataframe tbody tr th:only-of-type {\n",
       "        vertical-align: middle;\n",
       "    }\n",
       "\n",
       "    .dataframe tbody tr th {\n",
       "        vertical-align: top;\n",
       "    }\n",
       "\n",
       "    .dataframe thead th {\n",
       "        text-align: right;\n",
       "    }\n",
       "</style>\n",
       "<table border=\"1\" class=\"dataframe\">\n",
       "  <thead>\n",
       "    <tr style=\"text-align: right;\">\n",
       "      <th></th>\n",
       "      <th>Rooms</th>\n",
       "      <th>Price</th>\n",
       "      <th>Distance</th>\n",
       "      <th>Bathroom</th>\n",
       "      <th>Car</th>\n",
       "      <th>Landsize</th>\n",
       "      <th>BuildingArea</th>\n",
       "      <th>Propertycount</th>\n",
       "      <th>Build_Age</th>\n",
       "      <th>Type_h</th>\n",
       "      <th>...</th>\n",
       "      <th>Method_SA</th>\n",
       "      <th>Method_SP</th>\n",
       "      <th>Regionname_Eastern Metropolitan</th>\n",
       "      <th>Regionname_Eastern Victoria</th>\n",
       "      <th>Regionname_Northern Metropolitan</th>\n",
       "      <th>Regionname_Northern Victoria</th>\n",
       "      <th>Regionname_South-Eastern Metropolitan</th>\n",
       "      <th>Regionname_Southern Metropolitan</th>\n",
       "      <th>Regionname_Western Metropolitan</th>\n",
       "      <th>Regionname_Western Victoria</th>\n",
       "    </tr>\n",
       "  </thead>\n",
       "  <tbody>\n",
       "    <tr>\n",
       "      <th>0</th>\n",
       "      <td>2</td>\n",
       "      <td>1480000.0</td>\n",
       "      <td>2.5</td>\n",
       "      <td>1.0</td>\n",
       "      <td>1.0</td>\n",
       "      <td>202.0</td>\n",
       "      <td>167.281095</td>\n",
       "      <td>4019.0</td>\n",
       "      <td>52.0</td>\n",
       "      <td>1</td>\n",
       "      <td>...</td>\n",
       "      <td>0</td>\n",
       "      <td>0</td>\n",
       "      <td>0</td>\n",
       "      <td>0</td>\n",
       "      <td>1</td>\n",
       "      <td>0</td>\n",
       "      <td>0</td>\n",
       "      <td>0</td>\n",
       "      <td>0</td>\n",
       "      <td>0</td>\n",
       "    </tr>\n",
       "    <tr>\n",
       "      <th>1</th>\n",
       "      <td>2</td>\n",
       "      <td>1035000.0</td>\n",
       "      <td>2.5</td>\n",
       "      <td>1.0</td>\n",
       "      <td>0.0</td>\n",
       "      <td>156.0</td>\n",
       "      <td>79.000000</td>\n",
       "      <td>4019.0</td>\n",
       "      <td>122.0</td>\n",
       "      <td>1</td>\n",
       "      <td>...</td>\n",
       "      <td>0</td>\n",
       "      <td>0</td>\n",
       "      <td>0</td>\n",
       "      <td>0</td>\n",
       "      <td>1</td>\n",
       "      <td>0</td>\n",
       "      <td>0</td>\n",
       "      <td>0</td>\n",
       "      <td>0</td>\n",
       "      <td>0</td>\n",
       "    </tr>\n",
       "    <tr>\n",
       "      <th>2</th>\n",
       "      <td>2</td>\n",
       "      <td>941000.0</td>\n",
       "      <td>2.5</td>\n",
       "      <td>1.0</td>\n",
       "      <td>0.0</td>\n",
       "      <td>181.0</td>\n",
       "      <td>167.281095</td>\n",
       "      <td>4019.0</td>\n",
       "      <td>52.0</td>\n",
       "      <td>1</td>\n",
       "      <td>...</td>\n",
       "      <td>0</td>\n",
       "      <td>0</td>\n",
       "      <td>0</td>\n",
       "      <td>0</td>\n",
       "      <td>1</td>\n",
       "      <td>0</td>\n",
       "      <td>0</td>\n",
       "      <td>0</td>\n",
       "      <td>0</td>\n",
       "      <td>0</td>\n",
       "    </tr>\n",
       "    <tr>\n",
       "      <th>3</th>\n",
       "      <td>3</td>\n",
       "      <td>1876000.0</td>\n",
       "      <td>2.5</td>\n",
       "      <td>2.0</td>\n",
       "      <td>0.0</td>\n",
       "      <td>245.0</td>\n",
       "      <td>210.000000</td>\n",
       "      <td>4019.0</td>\n",
       "      <td>112.0</td>\n",
       "      <td>1</td>\n",
       "      <td>...</td>\n",
       "      <td>0</td>\n",
       "      <td>0</td>\n",
       "      <td>0</td>\n",
       "      <td>0</td>\n",
       "      <td>1</td>\n",
       "      <td>0</td>\n",
       "      <td>0</td>\n",
       "      <td>0</td>\n",
       "      <td>0</td>\n",
       "      <td>0</td>\n",
       "    </tr>\n",
       "    <tr>\n",
       "      <th>4</th>\n",
       "      <td>2</td>\n",
       "      <td>1636000.0</td>\n",
       "      <td>2.5</td>\n",
       "      <td>1.0</td>\n",
       "      <td>2.0</td>\n",
       "      <td>256.0</td>\n",
       "      <td>107.000000</td>\n",
       "      <td>4019.0</td>\n",
       "      <td>132.0</td>\n",
       "      <td>1</td>\n",
       "      <td>...</td>\n",
       "      <td>0</td>\n",
       "      <td>0</td>\n",
       "      <td>0</td>\n",
       "      <td>0</td>\n",
       "      <td>1</td>\n",
       "      <td>0</td>\n",
       "      <td>0</td>\n",
       "      <td>0</td>\n",
       "      <td>0</td>\n",
       "      <td>0</td>\n",
       "    </tr>\n",
       "  </tbody>\n",
       "</table>\n",
       "<p>5 rows × 23 columns</p>\n",
       "</div>"
      ],
      "text/plain": [
       "   Rooms      Price  Distance  Bathroom  Car  Landsize  BuildingArea  \\\n",
       "0      2  1480000.0       2.5       1.0  1.0     202.0    167.281095   \n",
       "1      2  1035000.0       2.5       1.0  0.0     156.0     79.000000   \n",
       "2      2   941000.0       2.5       1.0  0.0     181.0    167.281095   \n",
       "3      3  1876000.0       2.5       2.0  0.0     245.0    210.000000   \n",
       "4      2  1636000.0       2.5       1.0  2.0     256.0    107.000000   \n",
       "\n",
       "   Propertycount  Build_Age  Type_h  ...  Method_SA  Method_SP  \\\n",
       "0         4019.0       52.0       1  ...          0          0   \n",
       "1         4019.0      122.0       1  ...          0          0   \n",
       "2         4019.0       52.0       1  ...          0          0   \n",
       "3         4019.0      112.0       1  ...          0          0   \n",
       "4         4019.0      132.0       1  ...          0          0   \n",
       "\n",
       "   Regionname_Eastern Metropolitan  Regionname_Eastern Victoria  \\\n",
       "0                                0                            0   \n",
       "1                                0                            0   \n",
       "2                                0                            0   \n",
       "3                                0                            0   \n",
       "4                                0                            0   \n",
       "\n",
       "   Regionname_Northern Metropolitan  Regionname_Northern Victoria  \\\n",
       "0                                 1                             0   \n",
       "1                                 1                             0   \n",
       "2                                 1                             0   \n",
       "3                                 1                             0   \n",
       "4                                 1                             0   \n",
       "\n",
       "   Regionname_South-Eastern Metropolitan  Regionname_Southern Metropolitan  \\\n",
       "0                                      0                                 0   \n",
       "1                                      0                                 0   \n",
       "2                                      0                                 0   \n",
       "3                                      0                                 0   \n",
       "4                                      0                                 0   \n",
       "\n",
       "   Regionname_Western Metropolitan  Regionname_Western Victoria  \n",
       "0                                0                            0  \n",
       "1                                0                            0  \n",
       "2                                0                            0  \n",
       "3                                0                            0  \n",
       "4                                0                            0  \n",
       "\n",
       "[5 rows x 23 columns]"
      ]
     },
     "execution_count": 2,
     "metadata": {},
     "output_type": "execute_result"
    }
   ],
   "source": [
    "df= pd.read_csv('final_df.csv')\n",
    "df.head()"
   ]
  },
  {
   "cell_type": "code",
   "execution_count": 3,
   "metadata": {},
   "outputs": [
    {
     "name": "stdout",
     "output_type": "stream",
     "text": [
      "(7610, 22) (2537, 22) (7610,) (2537,)\n"
     ]
    }
   ],
   "source": [
    "cols = ['Landsize','Rooms','Distance','Bathroom','Car','Propertycount','BuildingArea','Build_Age','Regionname_Eastern Metropolitan', 'Regionname_Eastern Victoria','Regionname_Northern Metropolitan','Regionname_Northern Victoria','Regionname_South-Eastern Metropolitan',\n",
    "        'Regionname_Southern Metropolitan','Regionname_Western Metropolitan','Regionname_Western Victoria','Type_h','Type_t','Type_u','Method_SA','Method_SP','Method_S']\n",
    "\n",
    "X = df[cols]\n",
    "y = df['Price']\n",
    "\n",
    "train_X, test_X, train_y, test_y = train_test_split(X,y,test_size=0.25, random_state=0)\n",
    "print(train_X.shape, test_X.shape, train_y.shape, test_y.shape)"
   ]
  },
  {
   "cell_type": "markdown",
   "metadata": {},
   "source": [
    "### 1.Initial predictive models"
   ]
  },
  {
   "cell_type": "markdown",
   "metadata": {},
   "source": [
    "We execute 8 regression&ensembled models together to find which ML model works best for this particular dataset.\n",
    "We are looking for a model with the highest R2 and lowest RMSE."
   ]
  },
  {
   "cell_type": "code",
   "execution_count": 4,
   "metadata": {},
   "outputs": [
    {
     "name": "stdout",
     "output_type": "stream",
     "text": [
      "GradientBoostingRegressor()\n",
      "\tRMSE: 200331.79226542386\n",
      "\tR2 score: 0.7841217668616096\n",
      "KNeighborsRegressor()\n",
      "\tRMSE: 289688.17300575285\n",
      "\tR2 score: 0.548590565562443\n",
      "ExtraTreesRegressor()\n",
      "\tRMSE: 196563.56377507013\n",
      "\tR2 score: 0.7921666983175488\n",
      "RandomForestRegressor()\n",
      "\tRMSE: 187746.5531178866\n",
      "\tR2 score: 0.8103935762502867\n",
      "DecisionTreeRegressor()\n",
      "\tRMSE: 255278.41169308775\n",
      "\tR2 score: 0.6494602438957473\n",
      "LinearRegression()\n",
      "\tRMSE: 262148.92420692864\n",
      "\tR2 score: 0.6303376146054163\n",
      "Lasso()\n",
      "\tRMSE: 262148.14018006105\n",
      "\tR2 score: 0.6303398257516917\n",
      "Ridge()\n",
      "\tRMSE: 262152.46274535835\n",
      "\tR2 score: 0.6303276349849471\n"
     ]
    },
    {
     "name": "stderr",
     "output_type": "stream",
     "text": [
      "C:\\Users\\user\\anaconda3\\lib\\site-packages\\sklearn\\linear_model\\_coordinate_descent.py:529: ConvergenceWarning: Objective did not converge. You might want to increase the number of iterations. Duality gap: 60621231511381.0, tolerance: 134282554401.14911\n",
      "  model = cd_fast.enet_coordinate_descent(\n"
     ]
    }
   ],
   "source": [
    "\n",
    "regressors = [\n",
    "    GradientBoostingRegressor(),\n",
    "    KNeighborsRegressor(),\n",
    "    ExtraTreesRegressor(),\n",
    "    RandomForestRegressor(),\n",
    "    DecisionTreeRegressor(),\n",
    "    LinearRegression(),\n",
    "    Lasso(),\n",
    "    Ridge()\n",
    "]\n",
    "for model in regressors:\n",
    "    model.fit(train_X, train_y)\n",
    "    y_pred = model.predict(test_X)    \n",
    "    print(model)\n",
    "    print(\"\\tRMSE:\", np.sqrt(metrics.mean_squared_error(test_y, y_pred)))\n",
    "    print(\"\\tR2 score:\", r2_score(test_y, y_pred))"
   ]
  },
  {
   "cell_type": "markdown",
   "metadata": {},
   "source": [
    "Random Forest Regressor is the winner: R2=0.81, RMSE=188000."
   ]
  },
  {
   "cell_type": "markdown",
   "metadata": {},
   "source": [
    "### 2.Random Forest Regressor"
   ]
  },
  {
   "cell_type": "markdown",
   "metadata": {},
   "source": [
    "We will try to find the best parameters to tune the model. "
   ]
  },
  {
   "cell_type": "code",
   "execution_count": 5,
   "metadata": {},
   "outputs": [
    {
     "name": "stdout",
     "output_type": "stream",
     "text": [
      "{'max_depth': 15, 'max_features': None, 'n_estimators': 100} \n",
      "\n"
     ]
    }
   ],
   "source": [
    "\n",
    "from sklearn.model_selection import GridSearchCV\n",
    "grid = { \n",
    "    'n_estimators': [25, 50, 100],\n",
    "    'max_features':['sqrt', 'log2', None],\n",
    "    'max_depth' : [5, 10, 15, 25],\n",
    "}\n",
    "CV_rfr = GridSearchCV(estimator=RandomForestRegressor(), param_grid=grid, cv=5, scoring=\"neg_root_mean_squared_error\")\n",
    "CV_rfr.fit(train_X, train_y)\n",
    "print(CV_rfr.best_params_,'\\n')"
   ]
  },
  {
   "cell_type": "code",
   "execution_count": 6,
   "metadata": {},
   "outputs": [
    {
     "name": "stdout",
     "output_type": "stream",
     "text": [
      "Rsquared = 0.81\n",
      "RMSE:187298.34\n"
     ]
    }
   ],
   "source": [
    "# We fit the model(9th) with the best parameters\n",
    "rf = RandomForestRegressor(n_estimators = 100,max_depth=15,max_features=None)\n",
    "rf.fit(train_X, train_y)\n",
    "rf_pred=rf.predict(test_X)\n",
    "print('Rsquared = {:.2f}'.format(metrics.explained_variance_score(test_y,rf_pred)))\n",
    "print('RMSE:{:.2f}'.format(np.sqrt(metrics.mean_squared_error(test_y,rf_pred))))"
   ]
  },
  {
   "cell_type": "markdown",
   "metadata": {},
   "source": [
    "The result hasn't improved but having RMSE of less than half Price's standard deviation (422,706) is good.\n",
    "\n",
    "Let's look at the predicted vs actual values."
   ]
  },
  {
   "cell_type": "code",
   "execution_count": 7,
   "metadata": {},
   "outputs": [
    {
     "name": "stderr",
     "output_type": "stream",
     "text": [
      "C:\\Users\\user\\anaconda3\\lib\\site-packages\\seaborn\\distributions.py:2551: FutureWarning: `distplot` is a deprecated function and will be removed in a future version. Please adapt your code to use either `displot` (a figure-level function with similar flexibility) or `histplot` (an axes-level function for histograms).\n",
      "  warnings.warn(msg, FutureWarning)\n"
     ]
    },
    {
     "data": {
      "image/png": "[encoded data removed]",
      "text/plain": [
       "<Figure size 648x288 with 1 Axes>"
      ]
     },
     "metadata": {
      "needs_background": "light"
     },
     "output_type": "display_data"
    }
   ],
   "source": [
    "plt.figure(figsize=(9,4))\n",
    "sns.distplot(test_y, hist=True, kde=False)\n",
    "sns.distplot(rf_pred, hist=True, kde=False)\n",
    "plt.legend(labels=['Actual Values of Price', 'Predicted Values of Price'])\n",
    "plt.title('RandomForestRegressor')\n",
    "plt.xlim(0,);"
   ]
  },
  {
   "cell_type": "markdown",
   "metadata": {},
   "source": [
    "We explore features importance,i.e.how much each feature contributes to the reduction of weighted impurity and obtaining additional information about the price.  "
   ]
  },
  {
   "cell_type": "code",
   "execution_count": 8,
   "metadata": {},
   "outputs": [
    {
     "data": {
      "text/plain": [
       "Text(0.5, 1.0, 'RandomForestRegressor feature importance')"
      ]
     },
     "execution_count": 8,
     "metadata": {},
     "output_type": "execute_result"
    },
    {
     "data": {
      "image/png": "[encoded data removed]",
      "text/plain": [
       "<Figure size 432x288 with 1 Axes>"
      ]
     },
     "metadata": {
      "needs_background": "light"
     },
     "output_type": "display_data"
    }
   ],
   "source": [
    "input_features = train_X.columns\n",
    "feature_importance = rf.feature_importances_\n",
    "reg_feature_list = pd.Series(feature_importance, input_features)\n",
    "reg_feature_list.sort_values().plot.barh(color='green')\n",
    "plt.title('RandomForestRegressor feature importance')"
   ]
  },
  {
   "cell_type": "markdown",
   "metadata": {},
   "source": [
    "### 3.Extreme Gradient Boosted Regressor"
   ]
  },
  {
   "cell_type": "markdown",
   "metadata": {},
   "source": [
    "We will try another model which is Extreme Gradient Boosted Regressor (10th).This model uses different syntax and requires that our data be organized as a DMatrix before splitting into Train and Test sets."
   ]
  },
  {
   "cell_type": "code",
   "execution_count": 9,
   "metadata": {},
   "outputs": [
    {
     "name": "stdout",
     "output_type": "stream",
     "text": [
      "R2 with 100 boost rounds: 0.81\n",
      "RMSE with 100 boost rounds: 186190.51\n"
     ]
    }
   ],
   "source": [
    "import xgboost as xgb\n",
    "\n",
    "DM_train = xgb.DMatrix(data=train_X, label=train_y)\n",
    "DM_test = xgb.DMatrix(data=test_X, label=test_y)\n",
    "params = {'objective':'reg:squarederror','max_depth':5}\n",
    "xgb_model = xgb.train(params=params, dtrain=DM_train, num_boost_round=100)\n",
    "y_pred = xgb_model.predict(DM_test)\n",
    "\n",
    "print('R2 with 100 boost rounds: {:.2f}'.format(metrics.r2_score(test_y, y_pred)))\n",
    "print('RMSE with 100 boost rounds: {:.2f}'.format(np.sqrt(metrics.mean_squared_error(test_y, y_pred))))"
   ]
  },
  {
   "cell_type": "markdown",
   "metadata": {},
   "source": [
    "The model performs a bit better than RandomForestRegressor. We will loop through different values of parameters to find the best ones."
   ]
  },
  {
   "cell_type": "code",
   "execution_count": 10,
   "metadata": {},
   "outputs": [
    {
     "name": "stdout",
     "output_type": "stream",
     "text": [
      "R2 with 100 boost rounds, learning rate of 0.001: -4.05\n",
      "RMSE with 100 boost rounds, learning rate of 0.001: 968512.50\n",
      "R2 with 100 boost rounds, learning rate of 0.01: -0.09\n",
      "RMSE with 100 boost rounds, learning rate of 0.01: 451113.37\n",
      "R2 with 100 boost rounds, learning rate of 0.1: 0.81\n",
      "RMSE with 100 boost rounds, learning rate of 0.1: 185452.70\n",
      "R2 with 100 boost rounds, learning rate of 1.0: 0.74\n",
      "RMSE with 100 boost rounds, learning rate of 1.0: 219683.80\n"
     ]
    }
   ],
   "source": [
    "params = {'objective':'reg:squarederror', 'max_depth': 5}\n",
    "    \n",
    "#loop through several possible eta values\n",
    "eta_vals = [0.001, 0.01, 0.1, 1.0]\n",
    "\n",
    "for eta in eta_vals:\n",
    "    params['eta'] = eta\n",
    "    xgb_model = xgb.train(params=params, dtrain=DM_train, num_boost_round=100)\n",
    "    y_pred = xgb_model.predict(DM_test)\n",
    "    print('R2 with 100 boost rounds, learning rate of {}: {:.2f}'.format(eta, metrics.r2_score(test_y, y_pred)))\n",
    "    print('RMSE with 100 boost rounds, learning rate of {}: {:.2f}'.format(eta, np.sqrt(metrics.mean_squared_error(test_y, y_pred))))"
   ]
  },
  {
   "cell_type": "code",
   "execution_count": 11,
   "metadata": {},
   "outputs": [
    {
     "name": "stdout",
     "output_type": "stream",
     "text": [
      "R2 with 100 boost rounds, learning rate of 0.1, subsample of 0.5: 0.82\n",
      "RMSE with 100 boost rounds, learning rate of 0.1, subsample of 0.5: 184116.80\n",
      "R2 with 100 boost rounds, learning rate of 0.1, subsample of 0.6: 0.82\n",
      "RMSE with 100 boost rounds, learning rate of 0.1, subsample of 0.6: 184953.31\n",
      "R2 with 100 boost rounds, learning rate of 0.1, subsample of 0.7: 0.81\n",
      "RMSE with 100 boost rounds, learning rate of 0.1, subsample of 0.7: 185662.83\n",
      "R2 with 100 boost rounds, learning rate of 0.1, subsample of 0.8: 0.82\n",
      "RMSE with 100 boost rounds, learning rate of 0.1, subsample of 0.8: 183146.59\n",
      "R2 with 100 boost rounds, learning rate of 0.1, subsample of 0.9: 0.82\n",
      "RMSE with 100 boost rounds, learning rate of 0.1, subsample of 0.9: 184116.14\n"
     ]
    }
   ],
   "source": [
    "params = {'objective':'reg:squarederror', 'max_depth': 5, 'eta':0.1}\n",
    "    \n",
    "#loop through several possible values of subsamples (rows)\n",
    "subsample_vals= [0.5, 0.6, 0.7, 0.8, 0.9]\n",
    "\n",
    "for val in subsample_vals:\n",
    "    params['subsample'] = val\n",
    "    xgb_model = xgb.train(params=params, dtrain=DM_train, num_boost_round=100)\n",
    "    y_pred = xgb_model.predict(DM_test)\n",
    "\n",
    "    print('R2 with 100 boost rounds, learning rate of 0.1, subsample of {}: {:.2f}'.format(val, metrics.r2_score(test_y, y_pred)))\n",
    "    print('RMSE with 100 boost rounds, learning rate of 0.1, subsample of {}: {:.2f}'.format(val, np.sqrt(metrics.mean_squared_error(test_y, y_pred))))"
   ]
  },
  {
   "cell_type": "code",
   "execution_count": 12,
   "metadata": {},
   "outputs": [
    {
     "name": "stdout",
     "output_type": "stream",
     "text": [
      "R2 with 100 boost rounds, learning rate of 0.1, colsample_bytree of 0.7: 0.82\n",
      "RMSE with 100 boost rounds, learning rate of 0.1, colsample_bytree of 0.7: 184750.84\n",
      "R2 with 100 boost rounds, learning rate of 0.1, colsample_bytree of 0.8: 0.82\n",
      "RMSE with 100 boost rounds, learning rate of 0.1, colsample_bytree of 0.8: 184930.69\n",
      "R2 with 100 boost rounds, learning rate of 0.1, colsample_bytree of 0.9: 0.82\n",
      "RMSE with 100 boost rounds, learning rate of 0.1, colsample_bytree of 0.9: 184603.18\n"
     ]
    }
   ],
   "source": [
    "params = {'objective':'reg:squarederror', 'max_depth': 5, 'eta':0.1, 'subsample':0.8}\n",
    "    \n",
    "#loop through several possible values of subsamples (cols)\n",
    "colsample_vals= [0.7, 0.8, 0.9]\n",
    "\n",
    "for val in colsample_vals:\n",
    "    params['colsample_bytree'] = val\n",
    "    xgb_model = xgb.train(params=params, dtrain=DM_train, num_boost_round=100)\n",
    "    y_pred = xgb_model.predict(DM_test)\n",
    "\n",
    "    print('R2 with 100 boost rounds, learning rate of 0.1, colsample_bytree of {}: {:.2f}'.format(val, metrics.r2_score(test_y, y_pred)))\n",
    "    print('RMSE with 100 boost rounds, learning rate of 0.1, colsample_bytree of {}: {:.2f}'.format(val, np.sqrt(metrics.mean_squared_error(test_y, y_pred))))"
   ]
  },
  {
   "cell_type": "markdown",
   "metadata": {},
   "source": [
    "### 4.Final model with the best parameters"
   ]
  },
  {
   "cell_type": "code",
   "execution_count": 13,
   "metadata": {},
   "outputs": [
    {
     "name": "stdout",
     "output_type": "stream",
     "text": [
      "Rsquared = 0.82\n",
      "RMSE:184750.84\n"
     ]
    }
   ],
   "source": [
    "params = {'objective':'reg:squarederror', 'max_depth': 5, 'eta':0.1, 'subsample':0.8, 'colsample_bytree':0.7}\n",
    "\n",
    "xgb_model = xgb.train(params=params, dtrain=DM_train, num_boost_round=100)\n",
    "y_pred = xgb_model.predict(DM_test)\n",
    "\n",
    "print('Rsquared = {:.2f}'.format(metrics.r2_score(test_y, y_pred)))\n",
    "print('RMSE:{:.2f}'.format(np.sqrt(metrics.mean_squared_error(test_y, y_pred))))"
   ]
  },
  {
   "cell_type": "code",
   "execution_count": 14,
   "metadata": {},
   "outputs": [
    {
     "name": "stderr",
     "output_type": "stream",
     "text": [
      "C:\\Users\\user\\anaconda3\\lib\\site-packages\\seaborn\\distributions.py:2551: FutureWarning: `distplot` is a deprecated function and will be removed in a future version. Please adapt your code to use either `displot` (a figure-level function with similar flexibility) or `histplot` (an axes-level function for histograms).\n",
      "  warnings.warn(msg, FutureWarning)\n"
     ]
    },
    {
     "data": {
      "image/png": "[encoded data removed]",
      "text/plain": [
       "<Figure size 648x288 with 1 Axes>"
      ]
     },
     "metadata": {
      "needs_background": "light"
     },
     "output_type": "display_data"
    }
   ],
   "source": [
    "plt.figure(figsize=(9,4))\n",
    "sns.distplot(test_y, hist=True, kde=False)\n",
    "sns.distplot(y_pred, hist=True, kde=False)\n",
    "plt.legend(labels=['Actual Values of Price', 'Predicted Values of Price'])\n",
    "plt.title('XGBoost')\n",
    "plt.xlim(0,);"
   ]
  },
  {
   "cell_type": "code",
   "execution_count": 16,
   "metadata": {},
   "outputs": [
    {
     "data": {
      "text/plain": [
       "<AxesSubplot:title={'center':'Feature importance'}, xlabel='F score', ylabel='Features'>"
      ]
     },
     "execution_count": 16,
     "metadata": {},
     "output_type": "execute_result"
    },
    {
     "data": {
      "image/png": "[encoded data removed]",
      "text/plain": [
       "<Figure size 432x288 with 1 Axes>"
      ]
     },
     "metadata": {
      "needs_background": "light"
     },
     "output_type": "display_data"
    }
   ],
   "source": [
    "# features importance exploration\n",
    "\n",
    "from xgboost import plot_importance\n",
    "\n",
    "plot_importance(xgb_model)"
   ]
  },
  {
   "cell_type": "code",
   "execution_count": 17,
   "metadata": {},
   "outputs": [
    {
     "data": {
      "text/html": [
       "<div>\n",
       "<style scoped>\n",
       "    .dataframe tbody tr th:only-of-type {\n",
       "        vertical-align: middle;\n",
       "    }\n",
       "\n",
       "    .dataframe tbody tr th {\n",
       "        vertical-align: top;\n",
       "    }\n",
       "\n",
       "    .dataframe thead th {\n",
       "        text-align: right;\n",
       "    }\n",
       "</style>\n",
       "<table border=\"1\" class=\"dataframe\">\n",
       "  <thead>\n",
       "    <tr style=\"text-align: right;\">\n",
       "      <th></th>\n",
       "      <th>Predicted values</th>\n",
       "      <th>True values</th>\n",
       "    </tr>\n",
       "  </thead>\n",
       "  <tbody>\n",
       "    <tr>\n",
       "      <th>7485</th>\n",
       "      <td>7.601542e+05</td>\n",
       "      <td>830000.0</td>\n",
       "    </tr>\n",
       "    <tr>\n",
       "      <th>2411</th>\n",
       "      <td>5.319591e+05</td>\n",
       "      <td>440000.0</td>\n",
       "    </tr>\n",
       "    <tr>\n",
       "      <th>8978</th>\n",
       "      <td>8.550498e+05</td>\n",
       "      <td>820000.0</td>\n",
       "    </tr>\n",
       "    <tr>\n",
       "      <th>4500</th>\n",
       "      <td>6.941371e+05</td>\n",
       "      <td>550000.0</td>\n",
       "    </tr>\n",
       "    <tr>\n",
       "      <th>7196</th>\n",
       "      <td>8.124444e+05</td>\n",
       "      <td>1275000.0</td>\n",
       "    </tr>\n",
       "    <tr>\n",
       "      <th>1308</th>\n",
       "      <td>8.543518e+05</td>\n",
       "      <td>700000.0</td>\n",
       "    </tr>\n",
       "    <tr>\n",
       "      <th>3619</th>\n",
       "      <td>1.070903e+06</td>\n",
       "      <td>1088000.0</td>\n",
       "    </tr>\n",
       "    <tr>\n",
       "      <th>7226</th>\n",
       "      <td>1.326256e+06</td>\n",
       "      <td>1031000.0</td>\n",
       "    </tr>\n",
       "    <tr>\n",
       "      <th>5193</th>\n",
       "      <td>1.408643e+06</td>\n",
       "      <td>1275000.0</td>\n",
       "    </tr>\n",
       "    <tr>\n",
       "      <th>1788</th>\n",
       "      <td>1.018390e+06</td>\n",
       "      <td>1220000.0</td>\n",
       "    </tr>\n",
       "  </tbody>\n",
       "</table>\n",
       "</div>"
      ],
      "text/plain": [
       "      Predicted values  True values\n",
       "7485      7.601542e+05     830000.0\n",
       "2411      5.319591e+05     440000.0\n",
       "8978      8.550498e+05     820000.0\n",
       "4500      6.941371e+05     550000.0\n",
       "7196      8.124444e+05    1275000.0\n",
       "1308      8.543518e+05     700000.0\n",
       "3619      1.070903e+06    1088000.0\n",
       "7226      1.326256e+06    1031000.0\n",
       "5193      1.408643e+06    1275000.0\n",
       "1788      1.018390e+06    1220000.0"
      ]
     },
     "execution_count": 17,
     "metadata": {},
     "output_type": "execute_result"
    }
   ],
   "source": [
    "#Lastly, we can inspect the first 10 predictions and true values, to get a sense of the model performance.\n",
    "pd.DataFrame({'Predicted values':y_pred[:10], 'True values':test_y[:10]})"
   ]
  },
  {
   "cell_type": "code",
   "execution_count": 10,
   "metadata": {},
   "outputs": [
    {
     "data": {
      "image/png": "[encoded data removed]",
      "text/plain": [
       "<Figure size 432x288 with 1 Axes>"
      ]
     },
     "metadata": {
      "needs_background": "light"
     },
     "output_type": "display_data"
    }
   ],
   "source": [
    "sns.scatterplot(x=test_y, y=y_pred)\n",
    "plt.title('Predicted vs True Price')\n",
    "plt.ylabel('True Price')\n",
    "plt.xlabel('Predicted Price');"
   ]
  },
  {
   "cell_type": "code",
   "execution_count": null,
   "metadata": {},
   "outputs": [],
   "source": []
  }
 ],
 "metadata": {
  "kernelspec": {
   "display_name": "Python 3",
   "language": "python",
   "name": "python3"
  },
  "language_info": {
   "codemirror_mode": {
    "name": "ipython",
    "version": 3
   },
   "file_extension": ".py",
   "mimetype": "text/x-python",
   "name": "python",
   "nbconvert_exporter": "python",
   "pygments_lexer": "ipython3",
   "version": "3.8.5"
  }
 },
 "nbformat": 4,
 "nbformat_minor": 4
}
